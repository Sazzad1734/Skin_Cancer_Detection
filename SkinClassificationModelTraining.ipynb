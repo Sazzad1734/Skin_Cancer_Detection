{
 "cells": [
  {
   "cell_type": "code",
   "execution_count": 2,
   "id": "e3e95372",
   "metadata": {},
   "outputs": [],
   "source": [
    "import pandas as pd\n",
    "import numpy as np\n",
    "from tensorflow.keras.models import Sequential\n",
    "from tensorflow.keras.layers import Dense, Conv2D, Dropout, Flatten, MaxPooling2D\n",
    "from tensorflow.keras.applications import MobileNetV2\n",
    "from tensorflow.keras.optimizers import SGD\n",
    "from tensorflow.keras.preprocessing.image import ImageDataGenerator\n",
    "from tensorflow.keras.callbacks import ReduceLROnPlateau\n",
    "from sklearn.model_selection import train_test_split\n",
    "from sklearn.preprocessing import LabelEncoder\n",
    "from sklearn.metrics import classification_report\n",
    "import matplotlib.pyplot as plt"
   ]
  },
  {
   "cell_type": "code",
   "execution_count": 3,
   "id": "b868aa5b",
   "metadata": {},
   "outputs": [],
   "source": [
    "base_model = MobileNetV2(include_top=False, weights=\"imagenet\", input_shape=(224, 224, 3))"
   ]
  },
  {
   "cell_type": "code",
   "execution_count": 4,
   "id": "3d66fb66",
   "metadata": {},
   "outputs": [],
   "source": [
    "model = Sequential()\n",
    "model.add(base_model)\n",
    "model.add(Conv2D(64, (3, 3), activation='relu'))\n",
    "model.add(Dropout(0.4))\n",
    "model.add(Flatten())\n",
    "model.add(Dense(128, activation='relu'))\n",
    "model.add(Dropout(0.4))\n",
    "model.add(Dense(7, activation='sigmoid'))"
   ]
  },
  {
   "cell_type": "code",
   "execution_count": 5,
   "id": "3f3eed64",
   "metadata": {},
   "outputs": [],
   "source": [
    "import warnings\n",
    "warnings.filterwarnings(\"ignore\", category=FutureWarning)\n",
    "\n",
    "data = pd.read_csv(r\"C:\\Users\\Sazzad Ansari\\Desktop\\SkinCancerDetection\\SkinCancerDetection\\data\\HAM10000\\HAM10000_metadata.csv\")\n",
    "data['image_full_name'] = data['image_id'] + '.jpg'\n",
    "X = data[['image_full_name', 'lesion_id']]\n",
    "\n",
    "encoder = LabelEncoder()\n",
    "Y = encoder.fit_transform(data['dx'])  # Labels\n",
    "\n",
    "X_train, X_test, Y_train, Y_test = train_test_split(X, Y, test_size=0.17, random_state=42)"
   ]
  },
  {
   "cell_type": "code",
   "execution_count": 7,
   "id": "5a24be59",
   "metadata": {
    "scrolled": true
   },
   "outputs": [
    {
     "name": "stdout",
     "output_type": "stream",
     "text": [
      "Found 8312 validated image filenames belonging to 7 classes.\n"
     ]
    }
   ],
   "source": [
    "train_datagen = ImageDataGenerator(\n",
    "    rescale=1./255,\n",
    "    rotation_range=10,\n",
    "    zoom_range=0.1,\n",
    "    width_shift_range=0.1,\n",
    "    height_shift_range=0.1,\n",
    "    horizontal_flip=True)\n",
    "\n",
    "Y_train_df = pd.DataFrame(Y_train, columns=['dx'])\n",
    "\n",
    "Y_train_df['dx'] = Y_train_df['dx'].astype(str)\n",
    "\n",
    "train_df = pd.concat([X_train.reset_index(drop=True), Y_train_df], axis=1)\n",
    "\n",
    "train_generator = train_datagen.flow_from_dataframe(\n",
    "    dataframe=train_df,\n",
    "    directory=\"C:\\\\Users\\\\Sazzad Ansari\\\\Desktop\\\\SkinCancerDetection\\\\SkinCancerDetection\\\\data\\\\HAM10000\\\\HAM10000_images\",\n",
    "    x_col=\"image_full_name\",\n",
    "    y_col=\"dx\",\n",
    "    target_size=(224, 224),\n",
    "    batch_size=32,\n",
    "    class_mode='categorical')"
   ]
  },
  {
   "cell_type": "code",
   "execution_count": 8,
   "id": "11d91d1a",
   "metadata": {},
   "outputs": [],
   "source": [
    "learning_rate_reduction = ReduceLROnPlateau(monitor='val_accuracy',\n",
    "                                            patience=3,\n",
    "                                            verbose=1,\n",
    "                                            factor=0.5,\n",
    "                                            min_lr=0.0001)"
   ]
  },
  {
   "cell_type": "code",
   "execution_count": 9,
   "id": "31d709a7",
   "metadata": {},
   "outputs": [],
   "source": [
    "sgd = SGD(learning_rate=0.01, clipvalue=0.5)\n",
    "model.compile(optimizer=sgd, loss='categorical_crossentropy', metrics=['accuracy'])\n"
   ]
  },
  {
   "cell_type": "code",
   "execution_count": 10,
   "id": "cbe9d3bf",
   "metadata": {},
   "outputs": [
    {
     "name": "stdout",
     "output_type": "stream",
     "text": [
      "Found 1703 validated image filenames belonging to 7 classes.\n"
     ]
    }
   ],
   "source": [
    "X_train, X_val, Y_train, Y_val = train_test_split(X, Y, test_size=0.17, random_state=42)\n",
    "\n",
    "Y_train_df = pd.DataFrame(Y_train, columns=['dx'])\n",
    "Y_val_df = pd.DataFrame(Y_val, columns=['dx'])\n",
    "\n",
    "Y_train_df['dx'] = Y_train_df['dx'].astype(str)\n",
    "Y_val_df['dx'] = Y_val_df['dx'].astype(str)\n",
    "\n",
    "train_df = pd.concat([X_train.reset_index(drop=True), Y_train_df], axis=1)\n",
    "val_df = pd.concat([X_val.reset_index(drop=True), Y_val_df], axis=1)\n",
    "\n",
    "validation_generator = train_datagen.flow_from_dataframe(\n",
    "    dataframe=val_df,\n",
    "    directory=\"C:\\\\Users\\\\Sazzad Ansari\\\\Desktop\\\\SkinCancerDetection\\\\SkinCancerDetection\\\\data\\\\HAM10000\\\\\\\\HAM10000_images\",\n",
    "    x_col=\"image_full_name\",\n",
    "    y_col=\"dx\",\n",
    "    target_size=(224, 224),\n",
    "    batch_size=32,\n",
    "    class_mode='categorical'\n",
    ")"
   ]
  },
  {
   "cell_type": "code",
   "execution_count": 9,
   "id": "fefde97a",
   "metadata": {},
   "outputs": [
    {
     "name": "stdout",
     "output_type": "stream",
     "text": [
      "Epoch 1/30\n",
      "259/259 [==============================] - 956s 4s/step - loss: 1.0119 - accuracy: 0.6600 - val_loss: 2.1806 - val_accuracy: 0.6616\n",
      "Epoch 2/30\n",
      "259/259 [==============================] - 936s 4s/step - loss: 0.7701 - accuracy: 0.7245 - val_loss: 3.5975 - val_accuracy: 0.6627\n",
      "Epoch 3/30\n",
      "259/259 [==============================] - 889s 3s/step - loss: 0.6813 - accuracy: 0.7591 - val_loss: 1.5201 - val_accuracy: 0.6639\n",
      "Epoch 4/30\n",
      "259/259 [==============================] - 877s 3s/step - loss: 0.6324 - accuracy: 0.7762 - val_loss: 1.6533 - val_accuracy: 0.6769\n",
      "Epoch 5/30\n",
      "259/259 [==============================] - 876s 3s/step - loss: 0.5699 - accuracy: 0.7998 - val_loss: 3.2862 - val_accuracy: 0.6633\n",
      "Epoch 6/30\n",
      "259/259 [==============================] - 876s 3s/step - loss: 0.5303 - accuracy: 0.8112 - val_loss: 1.0923 - val_accuracy: 0.7081\n",
      "Epoch 7/30\n",
      "259/259 [==============================] - 875s 3s/step - loss: 0.4799 - accuracy: 0.8273 - val_loss: 4.7916 - val_accuracy: 0.6651\n",
      "Epoch 8/30\n",
      "259/259 [==============================] - 876s 3s/step - loss: 0.4479 - accuracy: 0.8402 - val_loss: 0.8535 - val_accuracy: 0.7246\n",
      "Epoch 9/30\n",
      "259/259 [==============================] - 874s 3s/step - loss: 0.4113 - accuracy: 0.8554 - val_loss: 0.7926 - val_accuracy: 0.7677\n",
      "Epoch 10/30\n",
      "259/259 [==============================] - 876s 3s/step - loss: 0.3861 - accuracy: 0.8634 - val_loss: 1.1423 - val_accuracy: 0.7529\n",
      "Epoch 11/30\n",
      "259/259 [==============================] - 872s 3s/step - loss: 0.3386 - accuracy: 0.8803 - val_loss: 0.9835 - val_accuracy: 0.7783\n",
      "Epoch 12/30\n",
      "259/259 [==============================] - 872s 3s/step - loss: 0.3476 - accuracy: 0.8783 - val_loss: 0.9004 - val_accuracy: 0.7659\n",
      "Epoch 13/30\n",
      "259/259 [==============================] - 874s 3s/step - loss: 0.3081 - accuracy: 0.8925 - val_loss: 0.7784 - val_accuracy: 0.7777\n",
      "Epoch 14/30\n",
      "259/259 [==============================] - 871s 3s/step - loss: 0.2864 - accuracy: 0.8972 - val_loss: 0.6541 - val_accuracy: 0.7925\n",
      "Epoch 15/30\n",
      "259/259 [==============================] - 871s 3s/step - loss: 0.2702 - accuracy: 0.9033 - val_loss: 0.9534 - val_accuracy: 0.7677\n",
      "Epoch 16/30\n",
      "259/259 [==============================] - 871s 3s/step - loss: 0.2541 - accuracy: 0.9106 - val_loss: 0.9186 - val_accuracy: 0.7129\n",
      "Epoch 17/30\n",
      "259/259 [==============================] - 872s 3s/step - loss: 0.2400 - accuracy: 0.9162 - val_loss: 0.6743 - val_accuracy: 0.8184\n",
      "Epoch 18/30\n",
      "259/259 [==============================] - 873s 3s/step - loss: 0.2193 - accuracy: 0.9263 - val_loss: 0.5925 - val_accuracy: 0.8349\n",
      "Epoch 19/30\n",
      "259/259 [==============================] - 984s 4s/step - loss: 0.2050 - accuracy: 0.9313 - val_loss: 0.6944 - val_accuracy: 0.8225\n",
      "Epoch 20/30\n",
      "259/259 [==============================] - 879s 3s/step - loss: 0.1885 - accuracy: 0.9347 - val_loss: 0.6495 - val_accuracy: 0.8202\n",
      "Epoch 21/30\n",
      "259/259 [==============================] - 869s 3s/step - loss: 0.1883 - accuracy: 0.9316 - val_loss: 0.7517 - val_accuracy: 0.8243\n",
      "\n",
      "Epoch 00021: ReduceLROnPlateau reducing learning rate to 0.004999999888241291.\n",
      "Epoch 22/30\n",
      "259/259 [==============================] - 881s 3s/step - loss: 0.1191 - accuracy: 0.9600 - val_loss: 0.5761 - val_accuracy: 0.8496\n",
      "Epoch 23/30\n",
      "259/259 [==============================] - 930s 4s/step - loss: 0.0989 - accuracy: 0.9664 - val_loss: 0.6083 - val_accuracy: 0.8384\n",
      "Epoch 24/30\n",
      "259/259 [==============================] - 937s 4s/step - loss: 0.1083 - accuracy: 0.9638 - val_loss: 0.6884 - val_accuracy: 0.8396\n",
      "Epoch 25/30\n",
      "259/259 [==============================] - 924s 4s/step - loss: 0.0858 - accuracy: 0.9710 - val_loss: 0.7643 - val_accuracy: 0.8172\n",
      "\n",
      "Epoch 00025: ReduceLROnPlateau reducing learning rate to 0.0024999999441206455.\n",
      "Epoch 26/30\n",
      "259/259 [==============================] - 961s 4s/step - loss: 0.0743 - accuracy: 0.9748 - val_loss: 0.5276 - val_accuracy: 0.8673\n",
      "Epoch 27/30\n",
      "259/259 [==============================] - 1076s 4s/step - loss: 0.0605 - accuracy: 0.9793 - val_loss: 0.6810 - val_accuracy: 0.8449\n",
      "Epoch 28/30\n",
      "259/259 [==============================] - 1013s 4s/step - loss: 0.0639 - accuracy: 0.9796 - val_loss: 0.5601 - val_accuracy: 0.8662\n",
      "Epoch 29/30\n",
      "259/259 [==============================] - 1107s 4s/step - loss: 0.0582 - accuracy: 0.9810 - val_loss: 0.5843 - val_accuracy: 0.8591\n",
      "\n",
      "Epoch 00029: ReduceLROnPlateau reducing learning rate to 0.0012499999720603228.\n",
      "Epoch 30/30\n",
      "259/259 [==============================] - 1138s 4s/step - loss: 0.0531 - accuracy: 0.9820 - val_loss: 0.5340 - val_accuracy: 0.8738\n"
     ]
    }
   ],
   "source": [
    "history = model.fit(\n",
    "    train_generator,\n",
    "    steps_per_epoch=train_generator.samples // train_generator.batch_size,\n",
    "    validation_data=validation_generator,\n",
    "    validation_steps=validation_generator.samples // validation_generator.batch_size,\n",
    "    epochs=30,\n",
    "    callbacks=[learning_rate_reduction]\n",
    ")"
   ]
  },
  {
   "cell_type": "code",
   "execution_count": null,
   "id": "5194c5fb",
   "metadata": {},
   "outputs": [],
   "source": [
    "import warnings\n",
    "warnings.filterwarnings(\"ignore\")\n",
    "model.save('skincancerdetectionmodel.h5')"
   ]
  },
  {
   "cell_type": "code",
   "execution_count": null,
   "id": "0c4eaf79",
   "metadata": {},
   "outputs": [],
   "source": [
    "plt.plot(history.history['accuracy'])\n",
    "plt.plot(history.history['val_accuracy'])\n",
    "plt.title('Model Accuracy')\n",
    "plt.xlabel('Epoch')\n",
    "plt.ylabel('Accuracy')\n",
    "plt.legend(['Train', 'Validation'], loc='upper left')\n",
    "plt.show()\n"
   ]
  },
  {
   "cell_type": "code",
   "execution_count": 18,
   "id": "f025e823",
   "metadata": {},
   "outputs": [
    {
     "data": {
      "image/png": "[encoded data removed]",
      "text/plain": [
       "<Figure size 640x480 with 1 Axes>"
      ]
     },
     "metadata": {},
     "output_type": "display_data"
    }
   ],
   "source": [
    "plt.plot(history.history['loss'])\n",
    "plt.plot(history.history['val_loss'])\n",
    "plt.title('Model Loss')\n",
    "plt.xlabel('Epoch')\n",
    "plt.ylabel('Loss')\n",
    "plt.legend(['Train', 'Validation'], loc='upper left')\n",
    "plt.show()\n"
   ]
  },
  {
   "cell_type": "code",
   "execution_count": 25,
   "id": "c9c9d2b2",
   "metadata": {},
   "outputs": [
    {
     "name": "stdout",
     "output_type": "stream",
     "text": [
      "Found 1703 validated image filenames.\n",
      "1703/1703 [==============================] - 59s 34ms/step\n"
     ]
    }
   ],
   "source": [
    "test_datagen = ImageDataGenerator(rescale=1./255)\n",
    "\n",
    "if isinstance(X_test, pd.DataFrame):\n",
    "    X_test = X_test.reset_index(drop=True)\n",
    "\n",
    "if isinstance(Y_test, np.ndarray):\n",
    "    Y_test = pd.DataFrame(Y_test)\n",
    "\n",
    "test_generator = test_datagen.flow_from_dataframe(\n",
    "    dataframe=pd.concat([X_test, Y_test], axis=1),\n",
    "    directory=\"C:\\\\Users\\\\Sazzad Ansari\\\\Desktop\\\\SkinCancerDetection\\\\SkinCancerDetection\\\\data\\\\HAM10000\\\\HAM10000_images\",\n",
    "    x_col=\"image_full_name\",\n",
    "    y_col=\"dx\",\n",
    "    target_size=(224, 224),\n",
    "    batch_size=1,\n",
    "    shuffle=False,\n",
    "    class_mode=None)\n",
    "\n",
    "predictions = model.predict(test_generator, steps=len(test_generator), verbose=1)\n",
    "y_pred = np.argmax(predictions, axis=1)"
   ]
  },
  {
   "cell_type": "code",
   "execution_count": 26,
   "id": "b7430907",
   "metadata": {},
   "outputs": [
    {
     "name": "stdout",
     "output_type": "stream",
     "text": [
      "              precision    recall  f1-score   support\n",
      "\n",
      "       akiec       1.00      0.16      0.28        62\n",
      "         bcc       0.84      0.60      0.70        77\n",
      "         bkl       0.44      0.76      0.56       201\n",
      "          df       0.81      0.54      0.65        24\n",
      "         mel       0.24      0.73      0.36       191\n",
      "          nv       0.94      0.55      0.70      1128\n",
      "        vasc       0.81      0.85      0.83        20\n",
      "\n",
      "    accuracy                           0.59      1703\n",
      "   macro avg       0.72      0.60      0.58      1703\n",
      "weighted avg       0.80      0.59      0.63      1703\n",
      "\n"
     ]
    }
   ],
   "source": [
    "report = classification_report(Y_test, y_pred, target_names=encoder.classes_)\n",
    "print(report)"
   ]
  },
  {
   "cell_type": "code",
   "execution_count": 28,
   "id": "d1104909",
   "metadata": {},
   "outputs": [],
   "source": [
    "model.save('skincancerdetectionmodel.h5')"
   ]
  },
  {
   "cell_type": "code",
   "execution_count": null,
   "id": "1da21d3e",
   "metadata": {},
   "outputs": [],
   "source": []
  }
 ],
 "metadata": {
  "kernelspec": {
   "display_name": "Python 3 (ipykernel)",
   "language": "python",
   "name": "python3"
  },
  "language_info": {
   "codemirror_mode": {
    "name": "ipython",
    "version": 3
   },
   "file_extension": ".py",
   "mimetype": "text/x-python",
   "name": "python",
   "nbconvert_exporter": "python",
   "pygments_lexer": "ipython3",
   "version": "3.10.0"
  }
 },
 "nbformat": 4,
 "nbformat_minor": 5
}
